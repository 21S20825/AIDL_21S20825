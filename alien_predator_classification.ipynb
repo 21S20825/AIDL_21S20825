{
 "cells": [
  {
   "cell_type": "code",
   "execution_count": 14,
   "id": "2a97c73d",
   "metadata": {},
   "outputs": [],
   "source": [
    "train_dir = '/Users/AMAB/Desktop/Bashar/MEC/Artificial Intelligence & Deep Learning/Dataset/train'\n",
    "test_dir = '/Users/AMAB/Desktop/Bashar/MEC/Artificial Intelligence & Deep Learning/Dataset/test'"
   ]
  },
  {
   "cell_type": "code",
   "execution_count": 15,
   "id": "6ccb3db8",
   "metadata": {},
   "outputs": [
    {
     "name": "stdout",
     "output_type": "stream",
     "text": [
      "250\n",
      "250\n",
      "50\n",
      "50\n"
     ]
    }
   ],
   "source": [
    "import os\n",
    "print(len(os.listdir('/Users/AMAB/Desktop/Bashar/MEC/Artificial Intelligence & Deep Learning/Dataset/train/Bears')))\n",
    "print(len(os.listdir('/Users/AMAB/Desktop/Bashar/MEC/Artificial Intelligence & Deep Learning/Dataset/train/Pandas')))\n",
    "print(len(os.listdir('/Users/AMAB/Desktop/Bashar/MEC/Artificial Intelligence & Deep Learning/Dataset/test/Bears')))\n",
    "print(len(os.listdir('/Users/AMAB/Desktop/Bashar/MEC/Artificial Intelligence & Deep Learning/Dataset/test/Pandas')))"
   ]
  },
  {
   "cell_type": "code",
   "execution_count": 16,
   "id": "47590a43",
   "metadata": {},
   "outputs": [
    {
     "name": "stdout",
     "output_type": "stream",
     "text": [
      "Found 400 images belonging to 2 classes.\n",
      "Found 100 images belonging to 2 classes.\n"
     ]
    }
   ],
   "source": [
    "import tensorflow as tf\n",
    "from tensorflow.keras.preprocessing.image import ImageDataGenerator\n",
    "\n",
    "train_datagen = ImageDataGenerator(\n",
    "    rescale=1./255,\n",
    "    validation_split=0.2\n",
    ")\n",
    "\n",
    "train_data = train_datagen.flow_from_directory(\n",
    "    train_dir,\n",
    "    target_size=(256,256),\n",
    "    batch_size=32,\n",
    "    class_mode='binary',\n",
    "    subset='training'\n",
    ")\n",
    "\n",
    "validation_datagen = ImageDataGenerator(\n",
    "    rescale=1./255,\n",
    "    validation_split=0.2\n",
    ")\n",
    "\n",
    "validation_data = validation_datagen.flow_from_directory(\n",
    "    train_dir,\n",
    "    target_size=(256,256),\n",
    "    batch_size=32,\n",
    "    class_mode='binary',\n",
    "    subset='validation'\n",
    ")"
   ]
  },
  {
   "cell_type": "code",
   "execution_count": 17,
   "id": "bfe3bd1d",
   "metadata": {},
   "outputs": [],
   "source": [
    "from tensorflow import keras\n",
    "from keras import Sequential\n",
    "from keras.layers import Dense,Conv2D,MaxPooling2D,Flatten,BatchNormalization,UpSampling2D, Dropout"
   ]
  },
  {
   "cell_type": "code",
   "execution_count": 18,
   "id": "249f4fc5",
   "metadata": {},
   "outputs": [],
   "source": [
    "model = Sequential()\n",
    "\n",
    "model.add(Conv2D(32,kernel_size=(3,3),padding='valid',activation='relu',input_shape=(256,256,3)))\n",
    "model.add(MaxPooling2D(pool_size=(2,2),strides=2,padding='valid'))\n",
    "\n",
    "model.add(Conv2D(64,kernel_size=(3,3),padding='valid',activation='relu'))\n",
    "model.add(MaxPooling2D(pool_size=(2,2),strides=2,padding='valid'))\n",
    "\n",
    "model.add(Conv2D(128,kernel_size=(3,3),padding='valid',activation='relu'))\n",
    "model.add(MaxPooling2D(pool_size=(2,2),strides=2,padding='valid'))\n",
    "\n",
    "model.add(Flatten())\n",
    "\n",
    "model.add(Dense(128,activation='relu'))\n",
    "model.add(Dense(64,activation='relu'))\n",
    "model.add(Dense(1,activation='sigmoid'))"
   ]
  },
  {
   "cell_type": "code",
   "execution_count": 19,
   "id": "17fe0cd3",
   "metadata": {},
   "outputs": [],
   "source": [
    "from keras.optimizers import Adam\n",
    "model.compile(optimizer=Adam(learning_rate=0.001),loss='binary_crossentropy',metrics=['accuracy'])"
   ]
  },
  {
   "cell_type": "code",
   "execution_count": 20,
   "id": "d50e4ec1",
   "metadata": {},
   "outputs": [
    {
     "name": "stdout",
     "output_type": "stream",
     "text": [
      "Epoch 1/30\n",
      "13/13 [==============================] - 11s 706ms/step - loss: 0.7380 - accuracy: 0.7725 - val_loss: 0.0836 - val_accuracy: 1.0000\n",
      "Epoch 2/30\n",
      "13/13 [==============================] - 10s 741ms/step - loss: 0.1629 - accuracy: 0.9625 - val_loss: 0.0129 - val_accuracy: 0.9900\n",
      "Epoch 3/30\n",
      "13/13 [==============================] - 9s 721ms/step - loss: 0.0085 - accuracy: 0.9950 - val_loss: 0.0024 - val_accuracy: 1.0000\n",
      "Epoch 4/30\n",
      "13/13 [==============================] - 11s 829ms/step - loss: 0.0131 - accuracy: 0.9975 - val_loss: 3.3631e-04 - val_accuracy: 1.0000\n",
      "Epoch 5/30\n",
      "13/13 [==============================] - 10s 758ms/step - loss: 0.0035 - accuracy: 0.9975 - val_loss: 0.0011 - val_accuracy: 1.0000\n",
      "Epoch 6/30\n",
      "13/13 [==============================] - 10s 775ms/step - loss: 0.0026 - accuracy: 1.0000 - val_loss: 2.3660e-04 - val_accuracy: 1.0000\n",
      "Epoch 7/30\n",
      "13/13 [==============================] - 10s 760ms/step - loss: 2.9106e-04 - accuracy: 1.0000 - val_loss: 9.1443e-04 - val_accuracy: 1.0000\n",
      "Epoch 8/30\n",
      "13/13 [==============================] - 9s 689ms/step - loss: 4.7912e-04 - accuracy: 1.0000 - val_loss: 2.7282e-04 - val_accuracy: 1.0000\n",
      "Epoch 9/30\n",
      "13/13 [==============================] - 9s 649ms/step - loss: 9.5510e-05 - accuracy: 1.0000 - val_loss: 9.4628e-05 - val_accuracy: 1.0000\n",
      "Epoch 10/30\n",
      "13/13 [==============================] - 9s 665ms/step - loss: 5.6962e-05 - accuracy: 1.0000 - val_loss: 7.7057e-05 - val_accuracy: 1.0000\n",
      "Epoch 11/30\n",
      "13/13 [==============================] - 8s 647ms/step - loss: 4.9603e-05 - accuracy: 1.0000 - val_loss: 7.0168e-05 - val_accuracy: 1.0000\n",
      "Epoch 12/30\n",
      "13/13 [==============================] - 9s 678ms/step - loss: 4.5381e-05 - accuracy: 1.0000 - val_loss: 6.4325e-05 - val_accuracy: 1.0000\n",
      "Epoch 13/30\n",
      "13/13 [==============================] - 9s 688ms/step - loss: 4.0907e-05 - accuracy: 1.0000 - val_loss: 6.0467e-05 - val_accuracy: 1.0000\n",
      "Epoch 14/30\n",
      "13/13 [==============================] - 9s 707ms/step - loss: 3.7669e-05 - accuracy: 1.0000 - val_loss: 5.7120e-05 - val_accuracy: 1.0000\n",
      "Epoch 15/30\n",
      "13/13 [==============================] - 9s 692ms/step - loss: 3.5011e-05 - accuracy: 1.0000 - val_loss: 5.3602e-05 - val_accuracy: 1.0000\n",
      "Epoch 16/30\n",
      "13/13 [==============================] - 9s 659ms/step - loss: 3.2427e-05 - accuracy: 1.0000 - val_loss: 4.9474e-05 - val_accuracy: 1.0000\n",
      "Epoch 17/30\n",
      "13/13 [==============================] - 9s 651ms/step - loss: 2.9830e-05 - accuracy: 1.0000 - val_loss: 4.4203e-05 - val_accuracy: 1.0000\n",
      "Epoch 18/30\n",
      "13/13 [==============================] - 8s 645ms/step - loss: 2.6208e-05 - accuracy: 1.0000 - val_loss: 3.9481e-05 - val_accuracy: 1.0000\n",
      "Epoch 19/30\n",
      "13/13 [==============================] - 8s 642ms/step - loss: 2.3147e-05 - accuracy: 1.0000 - val_loss: 3.6516e-05 - val_accuracy: 1.0000\n",
      "Epoch 20/30\n",
      "13/13 [==============================] - 8s 642ms/step - loss: 2.0556e-05 - accuracy: 1.0000 - val_loss: 3.1642e-05 - val_accuracy: 1.0000\n",
      "Epoch 21/30\n",
      "13/13 [==============================] - 9s 682ms/step - loss: 1.7627e-05 - accuracy: 1.0000 - val_loss: 2.7749e-05 - val_accuracy: 1.0000\n",
      "Epoch 22/30\n",
      "13/13 [==============================] - 8s 647ms/step - loss: 1.5506e-05 - accuracy: 1.0000 - val_loss: 2.5792e-05 - val_accuracy: 1.0000\n",
      "Epoch 23/30\n",
      "13/13 [==============================] - 9s 657ms/step - loss: 1.3281e-05 - accuracy: 1.0000 - val_loss: 2.3401e-05 - val_accuracy: 1.0000\n",
      "Epoch 24/30\n",
      "13/13 [==============================] - 8s 646ms/step - loss: 1.1901e-05 - accuracy: 1.0000 - val_loss: 2.0441e-05 - val_accuracy: 1.0000\n",
      "Epoch 25/30\n",
      "13/13 [==============================] - 9s 662ms/step - loss: 1.0493e-05 - accuracy: 1.0000 - val_loss: 1.8992e-05 - val_accuracy: 1.0000\n",
      "Epoch 26/30\n",
      "13/13 [==============================] - 8s 645ms/step - loss: 9.2362e-06 - accuracy: 1.0000 - val_loss: 1.7227e-05 - val_accuracy: 1.0000\n",
      "Epoch 27/30\n",
      "13/13 [==============================] - 9s 685ms/step - loss: 8.3551e-06 - accuracy: 1.0000 - val_loss: 1.5865e-05 - val_accuracy: 1.0000\n",
      "Epoch 28/30\n",
      "13/13 [==============================] - 8s 645ms/step - loss: 7.5622e-06 - accuracy: 1.0000 - val_loss: 1.4496e-05 - val_accuracy: 1.0000\n",
      "Epoch 29/30\n",
      "13/13 [==============================] - 9s 658ms/step - loss: 6.8472e-06 - accuracy: 1.0000 - val_loss: 1.2934e-05 - val_accuracy: 1.0000\n",
      "Epoch 30/30\n",
      "13/13 [==============================] - 8s 648ms/step - loss: 6.2493e-06 - accuracy: 1.0000 - val_loss: 1.2678e-05 - val_accuracy: 1.0000\n"
     ]
    }
   ],
   "source": [
    "history = model.fit(train_data, epochs=30, validation_data=validation_data)"
   ]
  },
  {
   "cell_type": "code",
   "execution_count": 21,
   "id": "94e44678",
   "metadata": {},
   "outputs": [
    {
     "data": {
      "image/png": "[encoded data removed]",
      "text/plain": [
       "<Figure size 640x480 with 1 Axes>"
      ]
     },
     "metadata": {},
     "output_type": "display_data"
    }
   ],
   "source": [
    "import matplotlib.pyplot as plt\n",
    "\n",
    "plt.plot(history.history['accuracy'],color='red',label='train')\n",
    "plt.plot(history.history['val_accuracy'],color='blue',label='validation')\n",
    "plt.legend()\n",
    "plt.show()"
   ]
  },
  {
   "cell_type": "code",
   "execution_count": 22,
   "id": "4a2d7990",
   "metadata": {},
   "outputs": [
    {
     "data": {
      "image/png": "[encoded data removed]",
      "text/plain": [
       "<Figure size 640x480 with 1 Axes>"
      ]
     },
     "metadata": {},
     "output_type": "display_data"
    }
   ],
   "source": [
    "plt.plot(history.history['loss'],color='red',label='train')\n",
    "plt.plot(history.history['val_loss'],color='blue',label='validation')\n",
    "plt.legend()\n",
    "plt.show()"
   ]
  },
  {
   "cell_type": "code",
   "execution_count": 23,
   "id": "b6db7cea",
   "metadata": {},
   "outputs": [
    {
     "name": "stdout",
     "output_type": "stream",
     "text": [
      "Found 100 images belonging to 2 classes.\n"
     ]
    }
   ],
   "source": [
    "test_datagen = ImageDataGenerator(rescale=1./255)\n",
    "test_data = test_datagen.flow_from_directory(\n",
    "    test_dir,\n",
    "    target_size=(256,256),\n",
    "    batch_size=32,\n",
    "    class_mode='binary'\n",
    ")"
   ]
  },
  {
   "cell_type": "code",
   "execution_count": 24,
   "id": "b47ae2b7",
   "metadata": {},
   "outputs": [
    {
     "name": "stdout",
     "output_type": "stream",
     "text": [
      "4/4 [==============================] - 1s 92ms/step\n",
      "[[8.13036024e-07]\n",
      " [9.99999821e-01]\n",
      " [5.45692365e-06]\n",
      " [4.30725215e-08]\n",
      " [9.99999821e-01]\n",
      " [9.99998271e-01]\n",
      " [1.13296814e-07]\n",
      " [2.12273335e-07]\n",
      " [9.99997854e-01]\n",
      " [1.67162952e-07]\n",
      " [1.60268428e-07]\n",
      " [5.82372049e-05]\n",
      " [5.62228237e-08]\n",
      " [1.51853172e-07]\n",
      " [5.99097575e-07]\n",
      " [9.99998808e-01]\n",
      " [5.16159950e-08]\n",
      " [1.98985305e-07]\n",
      " [9.99999821e-01]\n",
      " [2.82018732e-07]\n",
      " [9.99998629e-01]\n",
      " [9.99975443e-01]\n",
      " [9.99999940e-01]\n",
      " [9.99999821e-01]\n",
      " [9.99999881e-01]\n",
      " [9.99996901e-01]\n",
      " [9.99990463e-01]\n",
      " [1.00000000e+00]\n",
      " [1.57427404e-08]\n",
      " [9.99999881e-01]\n",
      " [9.99999762e-01]\n",
      " [9.99991953e-01]\n",
      " [9.95244989e-08]\n",
      " [3.71771840e-08]\n",
      " [9.99999821e-01]\n",
      " [9.99999881e-01]\n",
      " [1.32913511e-08]\n",
      " [2.51283268e-07]\n",
      " [1.00000000e+00]\n",
      " [1.00000000e+00]\n",
      " [5.67446579e-09]\n",
      " [9.99999821e-01]\n",
      " [9.99996841e-01]\n",
      " [9.99999523e-01]\n",
      " [7.46797184e-07]\n",
      " [1.98676219e-07]\n",
      " [8.92167691e-08]\n",
      " [9.99548912e-01]\n",
      " [9.99999940e-01]\n",
      " [6.12071915e-07]\n",
      " [9.99979675e-01]\n",
      " [2.96961424e-08]\n",
      " [1.00000000e+00]\n",
      " [3.26706200e-08]\n",
      " [4.43847306e-08]\n",
      " [9.99999344e-01]\n",
      " [3.44310251e-07]\n",
      " [8.37413694e-09]\n",
      " [9.99999881e-01]\n",
      " [9.99999940e-01]\n",
      " [4.86525323e-07]\n",
      " [9.99999821e-01]\n",
      " [1.00000000e+00]\n",
      " [9.99999821e-01]\n",
      " [1.57819059e-07]\n",
      " [9.99998391e-01]\n",
      " [9.99999702e-01]\n",
      " [3.04504823e-07]\n",
      " [2.69985510e-08]\n",
      " [1.00000000e+00]\n",
      " [1.00000000e+00]\n",
      " [5.16188514e-08]\n",
      " [7.12784470e-07]\n",
      " [5.85843225e-07]\n",
      " [1.04325602e-06]\n",
      " [2.77648553e-07]\n",
      " [9.99990642e-01]\n",
      " [9.99999940e-01]\n",
      " [2.63301160e-07]\n",
      " [9.99999881e-01]\n",
      " [4.16884723e-05]\n",
      " [1.84017992e-07]\n",
      " [4.54332962e-07]\n",
      " [3.12721138e-09]\n",
      " [9.99999702e-01]\n",
      " [9.99999702e-01]\n",
      " [3.03869747e-08]\n",
      " [9.99946117e-01]\n",
      " [9.99996126e-01]\n",
      " [4.47449411e-09]\n",
      " [9.99931514e-01]\n",
      " [2.63833545e-06]\n",
      " [9.99999642e-01]\n",
      " [9.99997377e-01]\n",
      " [2.18319540e-09]\n",
      " [1.25557742e-09]\n",
      " [3.82437157e-08]\n",
      " [9.99991357e-01]\n",
      " [1.00000000e+00]\n",
      " [1.11392611e-08]]\n"
     ]
    }
   ],
   "source": [
    "predictions = model.predict(test_data)\n",
    "print(predictions)"
   ]
  },
  {
   "cell_type": "code",
   "execution_count": 25,
   "id": "3207ea1f",
   "metadata": {},
   "outputs": [
    {
     "data": {
      "text/plain": [
       "100"
      ]
     },
     "execution_count": 25,
     "metadata": {},
     "output_type": "execute_result"
    }
   ],
   "source": [
    "len(predictions)"
   ]
  },
  {
   "cell_type": "code",
   "execution_count": 26,
   "id": "acd58d1b",
   "metadata": {},
   "outputs": [
    {
     "name": "stdout",
     "output_type": "stream",
     "text": [
      "Confusion Matrix:\n",
      "[[24 26]\n",
      " [26 24]]\n",
      "Classification Report:\n",
      "              precision    recall  f1-score   support\n",
      "\n",
      "           0       0.48      0.48      0.48        50\n",
      "           1       0.48      0.48      0.48        50\n",
      "\n",
      "    accuracy                           0.48       100\n",
      "   macro avg       0.48      0.48      0.48       100\n",
      "weighted avg       0.48      0.48      0.48       100\n",
      "\n"
     ]
    }
   ],
   "source": [
    "from sklearn.metrics import confusion_matrix, classification_report\n",
    "\n",
    "true_labels = test_data.classes\n",
    "predicted_labels = (predictions > 0.5).astype(int)\n",
    "\n",
    "cm = confusion_matrix(true_labels, predicted_labels)\n",
    "\n",
    "print(\"Confusion Matrix:\")\n",
    "print(cm)\n",
    "\n",
    "print(\"Classification Report:\")\n",
    "print(classification_report(true_labels, predicted_labels))"
   ]
  },
  {
   "cell_type": "code",
   "execution_count": null,
   "id": "ab9929e9",
   "metadata": {},
   "outputs": [],
   "source": []
  }
 ],
 "metadata": {
  "kernelspec": {
   "display_name": "Python 3 (ipykernel)",
   "language": "python",
   "name": "python3"
  },
  "language_info": {
   "codemirror_mode": {
    "name": "ipython",
    "version": 3
   },
   "file_extension": ".py",
   "mimetype": "text/x-python",
   "name": "python",
   "nbconvert_exporter": "python",
   "pygments_lexer": "ipython3",
   "version": "3.11.5"
  }
 },
 "nbformat": 4,
 "nbformat_minor": 5
}
