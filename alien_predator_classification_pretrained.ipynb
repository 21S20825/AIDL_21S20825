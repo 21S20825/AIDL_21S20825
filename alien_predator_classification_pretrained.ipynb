{
 "cells": [
  {
   "cell_type": "code",
   "execution_count": 21,
   "id": "99e4f386",
   "metadata": {},
   "outputs": [],
   "source": [
    "train_dir = '/Users/AMAB/Desktop/Bashar/MEC/Artificial Intelligence & Deep Learning/Dataset/train'\n",
    "test_dir = '/Users/AMAB/Desktop/Bashar/MEC/Artificial Intelligence & Deep Learning/Dataset/test'"
   ]
  },
  {
   "cell_type": "code",
   "execution_count": 22,
   "id": "19057a43",
   "metadata": {},
   "outputs": [
    {
     "name": "stdout",
     "output_type": "stream",
     "text": [
      "250\n",
      "250\n",
      "50\n",
      "50\n"
     ]
    }
   ],
   "source": [
    "import os\n",
    "print(len(os.listdir('/Users/AMAB/Desktop/Bashar/MEC/Artificial Intelligence & Deep Learning/Dataset/train/Bears')))\n",
    "print(len(os.listdir('/Users/AMAB/Desktop/Bashar/MEC/Artificial Intelligence & Deep Learning/Dataset/train/Pandas')))\n",
    "print(len(os.listdir('/Users/AMAB/Desktop/Bashar/MEC/Artificial Intelligence & Deep Learning/Dataset/test/Bears')))\n",
    "print(len(os.listdir('/Users/AMAB/Desktop/Bashar/MEC/Artificial Intelligence & Deep Learning/Dataset/test/Pandas')))"
   ]
  },
  {
   "cell_type": "code",
   "execution_count": 23,
   "id": "6dc18ff1",
   "metadata": {},
   "outputs": [
    {
     "name": "stdout",
     "output_type": "stream",
     "text": [
      "Found 400 images belonging to 2 classes.\n",
      "Found 100 images belonging to 2 classes.\n"
     ]
    }
   ],
   "source": [
    "import tensorflow as tf\n",
    "from tensorflow.keras.preprocessing.image import ImageDataGenerator\n",
    "\n",
    "train_datagen = ImageDataGenerator(\n",
    "    rescale=1./255,\n",
    "    validation_split=0.2\n",
    ")\n",
    "\n",
    "train_data = train_datagen.flow_from_directory(\n",
    "    train_dir,\n",
    "    target_size=(256,256),\n",
    "    batch_size=32,\n",
    "    class_mode='binary',\n",
    "    subset='training'\n",
    ")\n",
    "\n",
    "validation_datagen = ImageDataGenerator(\n",
    "    rescale=1./255,\n",
    "    validation_split=0.2\n",
    ")\n",
    "\n",
    "validation_data = validation_datagen.flow_from_directory(\n",
    "    train_dir,\n",
    "    target_size=(256,256),\n",
    "    batch_size=32,\n",
    "    class_mode='binary',\n",
    "    subset='validation'\n",
    ")"
   ]
  },
  {
   "cell_type": "code",
   "execution_count": 24,
   "id": "d0e7f2a5",
   "metadata": {},
   "outputs": [],
   "source": [
    "from tensorflow import keras\n",
    "from keras import Sequential\n",
    "from keras.layers import Dense,Conv2D,MaxPooling2D,Flatten\n",
    "\n",
    "resnet_model = Sequential()\n",
    "pretrained_model = tf.keras.applications.ResNet50(include_top = False,\n",
    "                                                input_shape = (256,256,3),\n",
    "                                                pooling = 'max', classes = 2,\n",
    "                                                weights = 'imagenet')\n",
    "for layer in pretrained_model.layers:\n",
    "    layer.trainable = False\n",
    "resnet_model.add(pretrained_model)\n",
    "resnet_model.add(Flatten())\n",
    "resnet_model.add(Dense(512, activation = 'relu'))\n",
    "resnet_model.add(Dense(1, activation = 'sigmoid'))"
   ]
  },
  {
   "cell_type": "code",
   "execution_count": 25,
   "id": "a990d553",
   "metadata": {},
   "outputs": [
    {
     "name": "stdout",
     "output_type": "stream",
     "text": [
      "Model: \"sequential_2\"\n",
      "_________________________________________________________________\n",
      " Layer (type)                Output Shape              Param #   \n",
      "=================================================================\n",
      " resnet50 (Functional)       (None, 2048)              23587712  \n",
      "                                                                 \n",
      " flatten_2 (Flatten)         (None, 2048)              0         \n",
      "                                                                 \n",
      " dense_4 (Dense)             (None, 512)               1049088   \n",
      "                                                                 \n",
      " dense_5 (Dense)             (None, 1)                 513       \n",
      "                                                                 \n",
      "=================================================================\n",
      "Total params: 24637313 (93.98 MB)\n",
      "Trainable params: 1049601 (4.00 MB)\n",
      "Non-trainable params: 23587712 (89.98 MB)\n",
      "_________________________________________________________________\n"
     ]
    }
   ],
   "source": [
    "resnet_model.summary()"
   ]
  },
  {
   "cell_type": "code",
   "execution_count": 26,
   "id": "c6164830",
   "metadata": {},
   "outputs": [],
   "source": [
    "from keras.optimizers import Adam\n",
    "resnet_model.compile(optimizer=Adam(learning_rate=0.001),loss='binary_crossentropy',metrics=['accuracy'])"
   ]
  },
  {
   "cell_type": "code",
   "execution_count": 27,
   "id": "ff900b9e",
   "metadata": {},
   "outputs": [
    {
     "name": "stdout",
     "output_type": "stream",
     "text": [
      "Epoch 1/3\n",
      "13/13 [==============================] - 27s 2s/step - loss: 3.4873 - accuracy: 0.5475 - val_loss: 0.1522 - val_accuracy: 0.9100\n",
      "Epoch 2/3\n",
      "13/13 [==============================] - 23s 2s/step - loss: 0.6280 - accuracy: 0.8000 - val_loss: 0.1547 - val_accuracy: 0.9100\n",
      "Epoch 3/3\n",
      "13/13 [==============================] - 23s 2s/step - loss: 0.2383 - accuracy: 0.9125 - val_loss: 0.2050 - val_accuracy: 0.9000\n"
     ]
    }
   ],
   "source": [
    "history = resnet_model.fit(train_data, epochs=3, validation_data=validation_data)"
   ]
  },
  {
   "cell_type": "code",
   "execution_count": 28,
   "id": "9eef8989",
   "metadata": {},
   "outputs": [
    {
     "data": {
      "image/png": "[encoded data removed]",
      "text/plain": [
       "<Figure size 640x480 with 1 Axes>"
      ]
     },
     "metadata": {},
     "output_type": "display_data"
    }
   ],
   "source": [
    "import matplotlib.pyplot as plt\n",
    "\n",
    "plt.plot(history.history['accuracy'],color='red',label='train')\n",
    "plt.plot(history.history['val_accuracy'],color='blue',label='validation')\n",
    "plt.legend()\n",
    "plt.show()"
   ]
  },
  {
   "cell_type": "code",
   "execution_count": 29,
   "id": "40f5bf7a",
   "metadata": {},
   "outputs": [
    {
     "data": {
      "image/png": "[encoded data removed]",
      "text/plain": [
       "<Figure size 640x480 with 1 Axes>"
      ]
     },
     "metadata": {},
     "output_type": "display_data"
    }
   ],
   "source": [
    "plt.plot(history.history['loss'],color='red',label='train')\n",
    "plt.plot(history.history['val_loss'],color='blue',label='validation')\n",
    "plt.legend()\n",
    "plt.show()"
   ]
  },
  {
   "cell_type": "code",
   "execution_count": 30,
   "id": "2fd51867",
   "metadata": {},
   "outputs": [
    {
     "name": "stdout",
     "output_type": "stream",
     "text": [
      "Found 100 images belonging to 2 classes.\n"
     ]
    }
   ],
   "source": [
    "test_datagen = ImageDataGenerator(rescale=1./255)\n",
    "test_data = test_datagen.flow_from_directory(\n",
    "    test_dir,\n",
    "    target_size=(256,256),\n",
    "    batch_size=32,\n",
    "    class_mode='binary'\n",
    ")"
   ]
  },
  {
   "cell_type": "code",
   "execution_count": 31,
   "id": "36cf8949",
   "metadata": {},
   "outputs": [
    {
     "name": "stdout",
     "output_type": "stream",
     "text": [
      "4/4 [==============================] - 6s 1s/step\n",
      "[[0.05960742]\n",
      " [0.9999645 ]\n",
      " [0.39517736]\n",
      " [0.9998474 ]\n",
      " [0.07376449]\n",
      " [0.9999996 ]\n",
      " [0.9999936 ]\n",
      " [0.99810183]\n",
      " [0.7550472 ]\n",
      " [0.9999996 ]\n",
      " [0.34906274]\n",
      " [0.9999996 ]\n",
      " [0.99999994]\n",
      " [0.04302008]\n",
      " [0.18661168]\n",
      " [0.9999986 ]\n",
      " [0.9999565 ]\n",
      " [1.        ]\n",
      " [0.13089429]\n",
      " [0.44287065]\n",
      " [0.09153447]\n",
      " [0.9999998 ]\n",
      " [0.9999758 ]\n",
      " [0.99999875]\n",
      " [0.00727024]\n",
      " [0.9999986 ]\n",
      " [0.13660185]\n",
      " [0.9993618 ]\n",
      " [1.        ]\n",
      " [0.02018761]\n",
      " [0.7220963 ]\n",
      " [0.9999999 ]\n",
      " [0.9999992 ]\n",
      " [0.9999997 ]\n",
      " [0.01451878]\n",
      " [0.01830281]\n",
      " [0.25469533]\n",
      " [0.9999983 ]\n",
      " [1.        ]\n",
      " [0.06169303]\n",
      " [0.99940264]\n",
      " [0.3340281 ]\n",
      " [0.7580202 ]\n",
      " [0.08387258]\n",
      " [0.9999812 ]\n",
      " [0.99999684]\n",
      " [0.48911616]\n",
      " [0.03715892]\n",
      " [1.        ]\n",
      " [0.08116749]\n",
      " [0.9999856 ]\n",
      " [0.9999696 ]\n",
      " [0.14161995]\n",
      " [0.02103859]\n",
      " [0.0070979 ]\n",
      " [0.07247123]\n",
      " [0.20760034]\n",
      " [0.89141864]\n",
      " [0.99967486]\n",
      " [0.01387101]\n",
      " [0.9717106 ]\n",
      " [1.        ]\n",
      " [0.9999999 ]\n",
      " [0.99930644]\n",
      " [0.05412296]\n",
      " [0.06386434]\n",
      " [0.99999624]\n",
      " [0.12267082]\n",
      " [0.40834647]\n",
      " [0.04816597]\n",
      " [0.999999  ]\n",
      " [0.19670951]\n",
      " [1.        ]\n",
      " [0.9999811 ]\n",
      " [0.12414771]\n",
      " [0.39529103]\n",
      " [0.9999997 ]\n",
      " [0.02981955]\n",
      " [0.8315659 ]\n",
      " [0.99993855]\n",
      " [0.62044364]\n",
      " [0.03909927]\n",
      " [0.9999931 ]\n",
      " [0.9999451 ]\n",
      " [0.56908137]\n",
      " [0.9962673 ]\n",
      " [0.08603501]\n",
      " [0.9999998 ]\n",
      " [0.99910134]\n",
      " [0.01537443]\n",
      " [0.9933315 ]\n",
      " [0.9404155 ]\n",
      " [0.01152766]\n",
      " [0.01665086]\n",
      " [1.        ]\n",
      " [0.11352866]\n",
      " [0.06727316]\n",
      " [0.9999583 ]\n",
      " [0.9999994 ]\n",
      " [0.9999973 ]]\n"
     ]
    }
   ],
   "source": [
    "predictions = resnet_model.predict(test_data)\n",
    "print(predictions)"
   ]
  },
  {
   "cell_type": "code",
   "execution_count": 32,
   "id": "1fc35e82",
   "metadata": {},
   "outputs": [
    {
     "data": {
      "text/plain": [
       "100"
      ]
     },
     "execution_count": 32,
     "metadata": {},
     "output_type": "execute_result"
    }
   ],
   "source": [
    "len(predictions)"
   ]
  },
  {
   "cell_type": "code",
   "execution_count": 33,
   "id": "06278ce1",
   "metadata": {},
   "outputs": [
    {
     "name": "stdout",
     "output_type": "stream",
     "text": [
      "Confusion Matrix:\n",
      "[[21 29]\n",
      " [22 28]]\n",
      "Classification Report:\n",
      "              precision    recall  f1-score   support\n",
      "\n",
      "           0       0.49      0.42      0.45        50\n",
      "           1       0.49      0.56      0.52        50\n",
      "\n",
      "    accuracy                           0.49       100\n",
      "   macro avg       0.49      0.49      0.49       100\n",
      "weighted avg       0.49      0.49      0.49       100\n",
      "\n"
     ]
    }
   ],
   "source": [
    "from sklearn.metrics import confusion_matrix, classification_report\n",
    "\n",
    "true_labels = test_data.classes\n",
    "predicted_labels = (predictions > 0.5).astype(int)\n",
    "\n",
    "cm = confusion_matrix(true_labels, predicted_labels)\n",
    "\n",
    "print(\"Confusion Matrix:\")\n",
    "print(cm)\n",
    "\n",
    "print(\"Classification Report:\")\n",
    "print(classification_report(true_labels, predicted_labels))"
   ]
  },
  {
   "cell_type": "code",
   "execution_count": null,
   "id": "979da4ed",
   "metadata": {},
   "outputs": [],
   "source": []
  }
 ],
 "metadata": {
  "kernelspec": {
   "display_name": "Python 3 (ipykernel)",
   "language": "python",
   "name": "python3"
  },
  "language_info": {
   "codemirror_mode": {
    "name": "ipython",
    "version": 3
   },
   "file_extension": ".py",
   "mimetype": "text/x-python",
   "name": "python",
   "nbconvert_exporter": "python",
   "pygments_lexer": "ipython3",
   "version": "3.11.5"
  }
 },
 "nbformat": 4,
 "nbformat_minor": 5
}
